{
 "cells": [
  {
   "cell_type": "code",
   "execution_count": 1,
   "metadata": {},
   "outputs": [
    {
     "data": {
      "text/html": [
       "<div>\n",
       "<style scoped>\n",
       "    .dataframe tbody tr th:only-of-type {\n",
       "        vertical-align: middle;\n",
       "    }\n",
       "\n",
       "    .dataframe tbody tr th {\n",
       "        vertical-align: top;\n",
       "    }\n",
       "\n",
       "    .dataframe thead th {\n",
       "        text-align: right;\n",
       "    }\n",
       "</style>\n",
       "<table border=\"1\" class=\"dataframe\">\n",
       "  <thead>\n",
       "    <tr style=\"text-align: right;\">\n",
       "      <th></th>\n",
       "      <th>label</th>\n",
       "      <th>keypoint</th>\n",
       "      <th>feature0</th>\n",
       "      <th>feature1</th>\n",
       "      <th>feature2</th>\n",
       "      <th>feature3</th>\n",
       "      <th>feature4</th>\n",
       "      <th>feature5</th>\n",
       "      <th>feature6</th>\n",
       "      <th>feature7</th>\n",
       "      <th>...</th>\n",
       "      <th>feature54</th>\n",
       "      <th>feature55</th>\n",
       "      <th>feature56</th>\n",
       "      <th>feature57</th>\n",
       "      <th>feature58</th>\n",
       "      <th>feature59</th>\n",
       "      <th>feature60</th>\n",
       "      <th>feature61</th>\n",
       "      <th>feature62</th>\n",
       "      <th>feature63</th>\n",
       "    </tr>\n",
       "  </thead>\n",
       "  <tbody>\n",
       "    <tr>\n",
       "      <th>0</th>\n",
       "      <td>1</td>\n",
       "      <td>&lt;KeyPoint 0x7fcd7ff373f0&gt;</td>\n",
       "      <td>0.000097</td>\n",
       "      <td>0.000093</td>\n",
       "      <td>0.000865</td>\n",
       "      <td>0.000336</td>\n",
       "      <td>0.059000</td>\n",
       "      <td>0.009595</td>\n",
       "      <td>0.060723</td>\n",
       "      <td>0.011210</td>\n",
       "      <td>...</td>\n",
       "      <td>0.005214</td>\n",
       "      <td>0.001915</td>\n",
       "      <td>0.000837</td>\n",
       "      <td>-0.000157</td>\n",
       "      <td>0.003490</td>\n",
       "      <td>0.001670</td>\n",
       "      <td>0.000174</td>\n",
       "      <td>-0.000048</td>\n",
       "      <td>0.000452</td>\n",
       "      <td>0.000271</td>\n",
       "    </tr>\n",
       "    <tr>\n",
       "      <th>1</th>\n",
       "      <td>1</td>\n",
       "      <td>&lt;KeyPoint 0x7fcd684d6090&gt;</td>\n",
       "      <td>0.000041</td>\n",
       "      <td>0.000090</td>\n",
       "      <td>0.000220</td>\n",
       "      <td>0.000258</td>\n",
       "      <td>0.000285</td>\n",
       "      <td>0.002320</td>\n",
       "      <td>0.002990</td>\n",
       "      <td>0.002902</td>\n",
       "      <td>...</td>\n",
       "      <td>0.039256</td>\n",
       "      <td>0.010442</td>\n",
       "      <td>0.035581</td>\n",
       "      <td>-0.009618</td>\n",
       "      <td>0.035721</td>\n",
       "      <td>0.010124</td>\n",
       "      <td>0.000035</td>\n",
       "      <td>0.000023</td>\n",
       "      <td>0.000082</td>\n",
       "      <td>0.000079</td>\n",
       "    </tr>\n",
       "    <tr>\n",
       "      <th>2</th>\n",
       "      <td>1</td>\n",
       "      <td>&lt;KeyPoint 0x7fcd684d6120&gt;</td>\n",
       "      <td>0.000409</td>\n",
       "      <td>0.000073</td>\n",
       "      <td>0.000793</td>\n",
       "      <td>0.000201</td>\n",
       "      <td>0.001902</td>\n",
       "      <td>0.000102</td>\n",
       "      <td>0.008818</td>\n",
       "      <td>0.001878</td>\n",
       "      <td>...</td>\n",
       "      <td>0.066607</td>\n",
       "      <td>0.008308</td>\n",
       "      <td>0.005185</td>\n",
       "      <td>-0.002279</td>\n",
       "      <td>0.005691</td>\n",
       "      <td>0.002728</td>\n",
       "      <td>-0.000092</td>\n",
       "      <td>0.000043</td>\n",
       "      <td>0.000123</td>\n",
       "      <td>0.000130</td>\n",
       "    </tr>\n",
       "    <tr>\n",
       "      <th>3</th>\n",
       "      <td>1</td>\n",
       "      <td>&lt;KeyPoint 0x7fcd684d61b0&gt;</td>\n",
       "      <td>0.000012</td>\n",
       "      <td>-0.000120</td>\n",
       "      <td>0.000518</td>\n",
       "      <td>0.000219</td>\n",
       "      <td>-0.002178</td>\n",
       "      <td>0.001158</td>\n",
       "      <td>0.008265</td>\n",
       "      <td>0.001981</td>\n",
       "      <td>...</td>\n",
       "      <td>0.062334</td>\n",
       "      <td>0.011628</td>\n",
       "      <td>0.011877</td>\n",
       "      <td>-0.003912</td>\n",
       "      <td>0.012280</td>\n",
       "      <td>0.004561</td>\n",
       "      <td>0.000041</td>\n",
       "      <td>0.000005</td>\n",
       "      <td>0.000041</td>\n",
       "      <td>0.000060</td>\n",
       "    </tr>\n",
       "    <tr>\n",
       "      <th>4</th>\n",
       "      <td>0</td>\n",
       "      <td>&lt;KeyPoint 0x7fcd684d6210&gt;</td>\n",
       "      <td>0.000248</td>\n",
       "      <td>0.000100</td>\n",
       "      <td>0.000340</td>\n",
       "      <td>0.000161</td>\n",
       "      <td>-0.001060</td>\n",
       "      <td>0.001720</td>\n",
       "      <td>0.003341</td>\n",
       "      <td>0.001823</td>\n",
       "      <td>...</td>\n",
       "      <td>0.058944</td>\n",
       "      <td>0.010038</td>\n",
       "      <td>0.014476</td>\n",
       "      <td>-0.004811</td>\n",
       "      <td>0.014626</td>\n",
       "      <td>0.005437</td>\n",
       "      <td>-0.000456</td>\n",
       "      <td>-0.000574</td>\n",
       "      <td>0.000738</td>\n",
       "      <td>0.000743</td>\n",
       "    </tr>\n",
       "    <tr>\n",
       "      <th>5</th>\n",
       "      <td>1</td>\n",
       "      <td>&lt;KeyPoint 0x7fcd684d6240&gt;</td>\n",
       "      <td>-0.000036</td>\n",
       "      <td>-0.000165</td>\n",
       "      <td>0.000290</td>\n",
       "      <td>0.000217</td>\n",
       "      <td>0.042065</td>\n",
       "      <td>0.009855</td>\n",
       "      <td>0.043866</td>\n",
       "      <td>0.010333</td>\n",
       "      <td>...</td>\n",
       "      <td>0.003325</td>\n",
       "      <td>0.001035</td>\n",
       "      <td>0.000567</td>\n",
       "      <td>-0.000261</td>\n",
       "      <td>0.001540</td>\n",
       "      <td>0.001246</td>\n",
       "      <td>0.000082</td>\n",
       "      <td>-0.000315</td>\n",
       "      <td>0.000503</td>\n",
       "      <td>0.000349</td>\n",
       "    </tr>\n",
       "    <tr>\n",
       "      <th>6</th>\n",
       "      <td>1</td>\n",
       "      <td>&lt;KeyPoint 0x7fcd684d6270&gt;</td>\n",
       "      <td>0.000149</td>\n",
       "      <td>0.000083</td>\n",
       "      <td>0.000233</td>\n",
       "      <td>0.000365</td>\n",
       "      <td>0.000038</td>\n",
       "      <td>-0.000183</td>\n",
       "      <td>0.000822</td>\n",
       "      <td>0.002598</td>\n",
       "      <td>...</td>\n",
       "      <td>0.061459</td>\n",
       "      <td>0.010249</td>\n",
       "      <td>0.013730</td>\n",
       "      <td>-0.004408</td>\n",
       "      <td>0.013769</td>\n",
       "      <td>0.004811</td>\n",
       "      <td>0.000130</td>\n",
       "      <td>-0.000006</td>\n",
       "      <td>0.000136</td>\n",
       "      <td>0.000126</td>\n",
       "    </tr>\n",
       "    <tr>\n",
       "      <th>7</th>\n",
       "      <td>1</td>\n",
       "      <td>&lt;KeyPoint 0x7fcd684d62a0&gt;</td>\n",
       "      <td>0.000212</td>\n",
       "      <td>0.000023</td>\n",
       "      <td>0.000250</td>\n",
       "      <td>0.000254</td>\n",
       "      <td>0.000350</td>\n",
       "      <td>0.001610</td>\n",
       "      <td>0.001230</td>\n",
       "      <td>0.002317</td>\n",
       "      <td>...</td>\n",
       "      <td>0.059331</td>\n",
       "      <td>0.010700</td>\n",
       "      <td>0.016447</td>\n",
       "      <td>-0.005159</td>\n",
       "      <td>0.016447</td>\n",
       "      <td>0.005781</td>\n",
       "      <td>-0.000868</td>\n",
       "      <td>-0.000782</td>\n",
       "      <td>0.001879</td>\n",
       "      <td>0.001225</td>\n",
       "    </tr>\n",
       "    <tr>\n",
       "      <th>8</th>\n",
       "      <td>0</td>\n",
       "      <td>&lt;KeyPoint 0x7fcd684d62d0&gt;</td>\n",
       "      <td>0.000051</td>\n",
       "      <td>-0.000071</td>\n",
       "      <td>0.000234</td>\n",
       "      <td>0.000218</td>\n",
       "      <td>0.000421</td>\n",
       "      <td>0.000123</td>\n",
       "      <td>0.001070</td>\n",
       "      <td>0.001249</td>\n",
       "      <td>...</td>\n",
       "      <td>0.057898</td>\n",
       "      <td>0.010161</td>\n",
       "      <td>0.014006</td>\n",
       "      <td>-0.002454</td>\n",
       "      <td>0.024783</td>\n",
       "      <td>0.008804</td>\n",
       "      <td>0.000137</td>\n",
       "      <td>-0.000081</td>\n",
       "      <td>0.000861</td>\n",
       "      <td>0.000950</td>\n",
       "    </tr>\n",
       "    <tr>\n",
       "      <th>9</th>\n",
       "      <td>0</td>\n",
       "      <td>&lt;KeyPoint 0x7fcd684d6300&gt;</td>\n",
       "      <td>-0.002585</td>\n",
       "      <td>-0.000881</td>\n",
       "      <td>0.004288</td>\n",
       "      <td>0.008644</td>\n",
       "      <td>-0.007652</td>\n",
       "      <td>0.034346</td>\n",
       "      <td>0.054874</td>\n",
       "      <td>0.049642</td>\n",
       "      <td>...</td>\n",
       "      <td>0.056540</td>\n",
       "      <td>0.020137</td>\n",
       "      <td>0.020447</td>\n",
       "      <td>-0.005466</td>\n",
       "      <td>0.053340</td>\n",
       "      <td>0.021220</td>\n",
       "      <td>0.002306</td>\n",
       "      <td>-0.000354</td>\n",
       "      <td>0.007797</td>\n",
       "      <td>0.003161</td>\n",
       "    </tr>\n",
       "  </tbody>\n",
       "</table>\n",
       "<p>10 rows × 66 columns</p>\n",
       "</div>"
      ],
      "text/plain": [
       "   label                   keypoint  feature0  feature1  feature2  feature3  \\\n",
       "0      1  <KeyPoint 0x7fcd7ff373f0>  0.000097  0.000093  0.000865  0.000336   \n",
       "1      1  <KeyPoint 0x7fcd684d6090>  0.000041  0.000090  0.000220  0.000258   \n",
       "2      1  <KeyPoint 0x7fcd684d6120>  0.000409  0.000073  0.000793  0.000201   \n",
       "3      1  <KeyPoint 0x7fcd684d61b0>  0.000012 -0.000120  0.000518  0.000219   \n",
       "4      0  <KeyPoint 0x7fcd684d6210>  0.000248  0.000100  0.000340  0.000161   \n",
       "5      1  <KeyPoint 0x7fcd684d6240> -0.000036 -0.000165  0.000290  0.000217   \n",
       "6      1  <KeyPoint 0x7fcd684d6270>  0.000149  0.000083  0.000233  0.000365   \n",
       "7      1  <KeyPoint 0x7fcd684d62a0>  0.000212  0.000023  0.000250  0.000254   \n",
       "8      0  <KeyPoint 0x7fcd684d62d0>  0.000051 -0.000071  0.000234  0.000218   \n",
       "9      0  <KeyPoint 0x7fcd684d6300> -0.002585 -0.000881  0.004288  0.008644   \n",
       "\n",
       "   feature4  feature5  feature6  feature7  ...  feature54  feature55  \\\n",
       "0  0.059000  0.009595  0.060723  0.011210  ...   0.005214   0.001915   \n",
       "1  0.000285  0.002320  0.002990  0.002902  ...   0.039256   0.010442   \n",
       "2  0.001902  0.000102  0.008818  0.001878  ...   0.066607   0.008308   \n",
       "3 -0.002178  0.001158  0.008265  0.001981  ...   0.062334   0.011628   \n",
       "4 -0.001060  0.001720  0.003341  0.001823  ...   0.058944   0.010038   \n",
       "5  0.042065  0.009855  0.043866  0.010333  ...   0.003325   0.001035   \n",
       "6  0.000038 -0.000183  0.000822  0.002598  ...   0.061459   0.010249   \n",
       "7  0.000350  0.001610  0.001230  0.002317  ...   0.059331   0.010700   \n",
       "8  0.000421  0.000123  0.001070  0.001249  ...   0.057898   0.010161   \n",
       "9 -0.007652  0.034346  0.054874  0.049642  ...   0.056540   0.020137   \n",
       "\n",
       "   feature56  feature57  feature58  feature59  feature60  feature61  \\\n",
       "0   0.000837  -0.000157   0.003490   0.001670   0.000174  -0.000048   \n",
       "1   0.035581  -0.009618   0.035721   0.010124   0.000035   0.000023   \n",
       "2   0.005185  -0.002279   0.005691   0.002728  -0.000092   0.000043   \n",
       "3   0.011877  -0.003912   0.012280   0.004561   0.000041   0.000005   \n",
       "4   0.014476  -0.004811   0.014626   0.005437  -0.000456  -0.000574   \n",
       "5   0.000567  -0.000261   0.001540   0.001246   0.000082  -0.000315   \n",
       "6   0.013730  -0.004408   0.013769   0.004811   0.000130  -0.000006   \n",
       "7   0.016447  -0.005159   0.016447   0.005781  -0.000868  -0.000782   \n",
       "8   0.014006  -0.002454   0.024783   0.008804   0.000137  -0.000081   \n",
       "9   0.020447  -0.005466   0.053340   0.021220   0.002306  -0.000354   \n",
       "\n",
       "   feature62  feature63  \n",
       "0   0.000452   0.000271  \n",
       "1   0.000082   0.000079  \n",
       "2   0.000123   0.000130  \n",
       "3   0.000041   0.000060  \n",
       "4   0.000738   0.000743  \n",
       "5   0.000503   0.000349  \n",
       "6   0.000136   0.000126  \n",
       "7   0.001879   0.001225  \n",
       "8   0.000861   0.000950  \n",
       "9   0.007797   0.003161  \n",
       "\n",
       "[10 rows x 66 columns]"
      ]
     },
     "execution_count": 1,
     "metadata": {},
     "output_type": "execute_result"
    }
   ],
   "source": [
    "import pandas as pd\n",
    "import numpy as np\n",
    "import matplotlib.pyplot as plt\n",
    "%matplotlib inline\n",
    "import math\n",
    "import seaborn as sns\n",
    "\n",
    "d=pd.read_csv(\"data.csv\")\n",
    "d.head(10)"
   ]
  },
  {
   "cell_type": "code",
   "execution_count": 2,
   "metadata": {},
   "outputs": [
    {
     "data": {
      "text/plain": [
       "<matplotlib.axes._subplots.AxesSubplot at 0x7f26c06a7dd8>"
      ]
     },
     "execution_count": 2,
     "metadata": {},
     "output_type": "execute_result"
    },
    {
     "data": {
      "image/png": "[encoded data removed]",
      "text/plain": [
       "<Figure size 432x288 with 1 Axes>"
      ]
     },
     "metadata": {
      "needs_background": "light"
     },
     "output_type": "display_data"
    }
   ],
   "source": [
    "sns.countplot(x=\"label\",data=d)"
   ]
  },
  {
   "cell_type": "code",
   "execution_count": 3,
   "metadata": {},
   "outputs": [],
   "source": [
    "d.drop(\"keypoint\",axis=1,inplace=True)"
   ]
  },
  {
   "cell_type": "code",
   "execution_count": 4,
   "metadata": {},
   "outputs": [],
   "source": [
    "y=d[\"label\"]\n",
    "x=d.drop(\"label\",axis=1)"
   ]
  },
  {
   "cell_type": "code",
   "execution_count": 5,
   "metadata": {},
   "outputs": [],
   "source": [
    "from sklearn.model_selection import train_test_split"
   ]
  },
  {
   "cell_type": "code",
   "execution_count": 6,
   "metadata": {},
   "outputs": [],
   "source": [
    "x_train, x_test1, y_train, y_test1=train_test_split(x,y,test_size=0.25,random_state=1)"
   ]
  },
  {
   "cell_type": "code",
   "execution_count": 7,
   "metadata": {},
   "outputs": [],
   "source": [
    "from imblearn.over_sampling import SMOTE"
   ]
  },
  {
   "cell_type": "code",
   "execution_count": 8,
   "metadata": {},
   "outputs": [
    {
     "name": "stdout",
     "output_type": "stream",
     "text": [
      "12608\n",
      "12608\n"
     ]
    }
   ],
   "source": [
    "os=SMOTE(random_state=0)\n",
    "col=x_train.columns\n",
    "os_data_x,os_data_y=os.fit_sample(x_train,y_train)\n",
    "os_data_x=pd.DataFrame(data=os_data_x,columns=col)\n",
    "os_data_y=pd.DataFrame(data=os_data_y,columns=['label'])\n",
    "print(len(os_data_y[os_data_y['label']==0]))\n",
    "print(len(os_data_y[os_data_y['label']==1]))"
   ]
  },
  {
   "cell_type": "code",
   "execution_count": 9,
   "metadata": {},
   "outputs": [
    {
     "data": {
      "text/plain": [
       "<matplotlib.axes._subplots.AxesSubplot at 0x7f26b66b1710>"
      ]
     },
     "execution_count": 9,
     "metadata": {},
     "output_type": "execute_result"
    },
    {
     "data": {
      "image/png": "[encoded data removed]",
      "text/plain": [
       "<Figure size 432x288 with 1 Axes>"
      ]
     },
     "metadata": {
      "needs_background": "light"
     },
     "output_type": "display_data"
    }
   ],
   "source": [
    "sns.countplot(x='label',data=os_data_y)"
   ]
  },
  {
   "cell_type": "code",
   "execution_count": 10,
   "metadata": {},
   "outputs": [],
   "source": [
    "x_train, x_test, y_train, y_test=train_test_split(os_data_x,os_data_y,test_size=0.25,random_state=1)"
   ]
  },
  {
   "cell_type": "code",
   "execution_count": 11,
   "metadata": {},
   "outputs": [],
   "source": [
    "from sklearn.linear_model import LogisticRegression"
   ]
  },
  {
   "cell_type": "code",
   "execution_count": 12,
   "metadata": {},
   "outputs": [],
   "source": [
    "logmodel=LogisticRegression()"
   ]
  },
  {
   "cell_type": "code",
   "execution_count": 13,
   "metadata": {},
   "outputs": [
    {
     "data": {
      "text/plain": [
       "LogisticRegression(C=1.0, class_weight=None, dual=False, fit_intercept=True,\n",
       "                   intercept_scaling=1, l1_ratio=None, max_iter=100,\n",
       "                   multi_class='auto', n_jobs=None, penalty='l2',\n",
       "                   random_state=None, solver='lbfgs', tol=0.0001, verbose=0,\n",
       "                   warm_start=False)"
      ]
     },
     "execution_count": 13,
     "metadata": {},
     "output_type": "execute_result"
    }
   ],
   "source": [
    "logmodel.fit(x_train,y_train.values.ravel())"
   ]
  },
  {
   "cell_type": "code",
   "execution_count": 14,
   "metadata": {},
   "outputs": [],
   "source": [
    "predictions=logmodel.predict(x_test)"
   ]
  },
  {
   "cell_type": "code",
   "execution_count": 15,
   "metadata": {},
   "outputs": [],
   "source": [
    "from sklearn.metrics import classification_report"
   ]
  },
  {
   "cell_type": "code",
   "execution_count": 16,
   "metadata": {},
   "outputs": [
    {
     "data": {
      "text/plain": [
       "'              precision    recall  f1-score   support\\n\\n           0       0.99      0.97      0.98      3178\\n           1       0.97      0.99      0.98      3126\\n\\n    accuracy                           0.98      6304\\n   macro avg       0.98      0.98      0.98      6304\\nweighted avg       0.98      0.98      0.98      6304\\n'"
      ]
     },
     "execution_count": 16,
     "metadata": {},
     "output_type": "execute_result"
    }
   ],
   "source": [
    "classification_report(y_test,predictions)"
   ]
  },
  {
   "cell_type": "code",
   "execution_count": 17,
   "metadata": {},
   "outputs": [],
   "source": [
    "from sklearn.metrics import confusion_matrix,accuracy_score"
   ]
  },
  {
   "cell_type": "code",
   "execution_count": 18,
   "metadata": {},
   "outputs": [
    {
     "data": {
      "text/plain": [
       "array([[3076,  102],\n",
       "       [  25, 3101]])"
      ]
     },
     "execution_count": 18,
     "metadata": {},
     "output_type": "execute_result"
    }
   ],
   "source": [
    "confusion_matrix(y_test,predictions)"
   ]
  },
  {
   "cell_type": "code",
   "execution_count": 19,
   "metadata": {},
   "outputs": [
    {
     "data": {
      "text/plain": [
       "0.9798540609137056"
      ]
     },
     "execution_count": 19,
     "metadata": {},
     "output_type": "execute_result"
    }
   ],
   "source": [
    "accuracy_score(y_test,predictions)"
   ]
  }
 ],
 "metadata": {
  "kernelspec": {
   "display_name": "Python 3",
   "language": "python",
   "name": "python3"
  },
  "language_info": {
   "codemirror_mode": {
    "name": "ipython",
    "version": 3
   },
   "file_extension": ".py",
   "mimetype": "text/x-python",
   "name": "python",
   "nbconvert_exporter": "python",
   "pygments_lexer": "ipython3",
   "version": "3.6.9"
  }
 },
 "nbformat": 4,
 "nbformat_minor": 4
}
